{
 "cells": [
  {
   "cell_type": "markdown",
   "metadata": {},
   "source": [
    "# AML Coursework assessment"
   ]
  },
  {
   "cell_type": "markdown",
   "metadata": {},
   "source": [
    "<!-- Use Arial 10-point font -->\n",
    "<div style=\"font-family: Arial; font-size: 10pt;\">\n",
    "  <h1>Comprehensive Predictive Modeling of Real Estate Prices</h1>\n",
    "</div>\n",
    "\n",
    "<!-- Use Times New Roman 11-point font -->\n",
    "<div style=\"font-family: 'Times New Roman', Times, serif; font-size: 8pt;\">\n",
    "  <h1>Comprehensive Predictive Modeling of Real Estate Prices</h1>\n",
    "</div>\n"
   ]
  },
  {
   "cell_type": "markdown",
   "metadata": {},
   "source": []
  }
 ],
 "metadata": {
  "kernelspec": {
   "display_name": "Python 3 (ipykernel)",
   "language": "python",
   "name": "python3"
  },
  "language_info": {
   "codemirror_mode": {
    "name": "ipython",
    "version": 3
   },
   "file_extension": ".py",
   "mimetype": "text/x-python",
   "name": "python",
   "nbconvert_exporter": "python",
   "pygments_lexer": "ipython3",
   "version": "3.8.8"
  }
 },
 "nbformat": 4,
 "nbformat_minor": 2
}
